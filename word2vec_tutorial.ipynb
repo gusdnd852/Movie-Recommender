{
 "cells": [
  {
   "cell_type": "markdown",
   "metadata": {
    "collapsed": true
   },
   "source": [
    "## 텐서플로우를 활용한 Word2Vec 구현"
   ]
  },
  {
   "cell_type": "markdown",
   "metadata": {},
   "source": [
    "임의로 만든 데이터 배열을 정의합니다."
   ]
  },
  {
   "cell_type": "code",
   "execution_count": 1,
   "metadata": {},
   "outputs": [],
   "source": [
    "corpus = ['예뻐 너가좋아 좋아해 사랑해',\n",
    "          '데이터마이닝 인공지능 김순태교수',\n",
    "          '데이터 4차산업혁명 데이터마이닝',\n",
    "          '인공지능 AI 빅데이터 데이터',\n",
    "          '좋아해 사랑해 행복해 너가좋아',\n",
    "          '페이커 롤 보겸 아프리카',\n",
    "          '김순태교수 전북대학교 연구실',\n",
    "          '전북대학교 인공지능 연구실',\n",
    "          '데이터 4차산업혁명 전북대학교',\n",
    "          '롤 오버워치 게임 블리자드',\n",
    "          '던전앤파이터 리니지 오버워치 롤',\n",
    "          '메이플스토리 롤 리니지 게임 오버워치',\n",
    "          '전북대학교 대학생 김순태교수 블록체인',\n",
    "          '블록체인 연구실 빅데이터',\n",
    "          '여자친구 사랑해 행복해',\n",
    "          '남자친구 좋아해 너가좋아',\n",
    "          '메이플스토리 리그오브레전드 롤',\n",
    "          '히오스 히어로즈오브스톰 롤 리그오브레전드',\n",
    "          '블리자드 오버워치 시공조아 히오스',\n",
    "          '전북대학교 학교 대학교',\n",
    "          '여자친구 사랑 행복 영원한',\n",
    "          '정우성 영화 전지현',\n",
    "          '김사랑 영화 조인성',\n",
    "          '조인성 학교 영화',\n",
    "          '영화 학교 조인성',\n",
    "          '정우성 전지현 배우 영화배우 영화',\n",
    "          '영화 배우 영화배우 감독 영화감독',\n",
    "          '영화관 심화영화 영화 영화감독',\n",
    "          '조인성 눈물연기 연기대상 영화배우',\n",
    "          '영화배우 연기대상 김사랑 전지현',\n",
    "          '게임 스타크래프트 오버워치',\n",
    "          '페이커 던전앤파이터 스타크래프트 메이플스토리 프로게이머',\n",
    "          '스타크래프트 임요환 게임',\n",
    "          '홍진호 폭풍저그 게임 임요환 페이커',\n",
    "          '게임 홍진호 폭풍저그',\n",
    "          '게임 스타크래프트 오버워치 롤',\n",
    "          '서든어택 롤 게임 스타크래프트',\n",
    "          '롤 스타크래프트 홍진호 게임']\n"
   ]
  },
  {
   "cell_type": "markdown",
   "metadata": {},
   "source": [
    "임의로 정의한 문장배열을 단어별로 정리합니다."
   ]
  },
  {
   "cell_type": "code",
   "execution_count": 2,
   "metadata": {},
   "outputs": [],
   "source": [
    "words = []\n",
    "\n",
    "for text in corpus:\n",
    "    for word in text.split(' '):\n",
    "        words.append(word)\n",
    "\n",
    "words = set(words)\n"
   ]
  },
  {
   "cell_type": "markdown",
   "metadata": {},
   "source": [
    "단어의 목록입니다."
   ]
  },
  {
   "cell_type": "code",
   "execution_count": 3,
   "metadata": {},
   "outputs": [
    {
     "data": {
      "text/plain": [
       "{'4차산업혁명',\n 'AI',\n '감독',\n '게임',\n '김사랑',\n '김순태교수',\n '남자친구',\n '너가좋아',\n '눈물연기',\n '대학교',\n '대학생',\n '던전앤파이터',\n '데이터',\n '데이터마이닝',\n '롤',\n '리그오브레전드',\n '리니지',\n '메이플스토리',\n '배우',\n '보겸',\n '블록체인',\n '블리자드',\n '빅데이터',\n '사랑',\n '사랑해',\n '서든어택',\n '스타크래프트',\n '시공조아',\n '심화영화',\n '아프리카',\n '여자친구',\n '연구실',\n '연기대상',\n '영원한',\n '영화',\n '영화감독',\n '영화관',\n '영화배우',\n '예뻐',\n '오버워치',\n '인공지능',\n '임요환',\n '전북대학교',\n '전지현',\n '정우성',\n '조인성',\n '좋아해',\n '페이커',\n '폭풍저그',\n '프로게이머',\n '학교',\n '행복',\n '행복해',\n '홍진호',\n '히어로즈오브스톰',\n '히오스'}"
      ]
     },
     "execution_count": 3,
     "metadata": {},
     "output_type": "execute_result"
    }
   ],
   "source": [
    "words"
   ]
  },
  {
   "cell_type": "markdown",
   "metadata": {},
   "source": [
    "word2int set을 정의하고 각 단어들마다 1씩 올려가며 숫자를 매깁니다. <br>\n",
    "그리고 window size를 2로 설정해서 양옆의 단어와 짝을 이룬 벡터를 생성합니다."
   ]
  },
  {
   "cell_type": "code",
   "execution_count": 4,
   "metadata": {},
   "outputs": [],
   "source": [
    "word2int = {}\n",
    "\n",
    "for i,word in enumerate(words):\n",
    "    word2int[word] = i\n",
    "\n",
    "sentences = []\n",
    "for sentence in corpus:\n",
    "    sentences.append(sentence.split())\n",
    "\n",
    "WINDOW_SIZE = 2\n",
    "\n",
    "data = []\n",
    "for sentence in sentences:\n",
    "    for idx, word in enumerate(sentence):\n",
    "        for neighbor in sentence[max(idx - WINDOW_SIZE, 0) : min(idx + WINDOW_SIZE, len(sentence)) + 1] :\n",
    "            if neighbor != word:\n",
    "                data.append([word, neighbor])\n"
   ]
  },
  {
   "cell_type": "markdown",
   "metadata": {},
   "source": [
    "pandas를 import하고 데이터프레임을 2차원의 생성합니다."
   ]
  },
  {
   "cell_type": "code",
   "execution_count": 5,
   "metadata": {},
   "outputs": [
    {
     "name": "stdout",
     "output_type": "stream",
     "text": [
      "예뻐 너가좋아 좋아해 사랑해\n데이터마이닝 인공지능 김순태교수\n데이터 4차산업혁명 데이터마이닝\n인공지능 AI 빅데이터 데이터\n좋아해 사랑해 행복해 너가좋아\n페이커 롤 보겸 아프리카\n김순태교수 전북대학교 연구실\n전북대학교 인공지능 연구실\n데이터 4차산업혁명 전북대학교\n롤 오버워치 게임 블리자드\n던전앤파이터 리니지 오버워치 롤\n메이플스토리 롤 리니지 게임 오버워치\n전북대학교 대학생 김순태교수 블록체인\n블록체인 연구실 빅데이터\n여자친구 사랑해 행복해\n남자친구 좋아해 너가좋아\n메이플스토리 리그오브레전드 롤\n히오스 히어로즈오브스톰 롤 리그오브레전드\n블리자드 오버워치 시공조아 히오스\n전북대학교 학교 대학교\n여자친구 사랑 행복 영원한\n정우성 영화 전지현\n김사랑 영화 조인성\n조인성 학교 영화\n영화 학교 조인성\n정우성 전지현 배우 영화배우 영화\n영화 배우 영화배우 감독 영화감독\n영화관 심화영화 영화 영화감독\n조인성 눈물연기 연기대상 영화배우\n영화배우 연기대상 김사랑 전지현\n게임 스타크래프트 오버워치\n페이커 던전앤파이터 스타크래프트 메이플스토리 프로게이머\n스타크래프트 임요환 게임\n홍진호 폭풍저그 게임 임요환 페이커\n게임 홍진호 폭풍저그\n게임 스타크래프트 오버워치 롤\n서든어택 롤 게임 스타크래프트\n롤 스타크래프트 홍진호 게임\n"
     ]
    }
   ],
   "source": [
    "import pandas as pd\n",
    "for text in corpus:\n",
    "    print(text)\n",
    "\n",
    "\n",
    "df = pd.DataFrame(data, columns = ['input', 'label'])"
   ]
  },
  {
   "cell_type": "markdown",
   "metadata": {},
   "source": [
    "현재 벡터의 사이즈"
   ]
  },
  {
   "cell_type": "code",
   "execution_count": 6,
   "metadata": {},
   "outputs": [
    {
     "data": {
      "text/plain": [
       "(332, 2)"
      ]
     },
     "execution_count": 6,
     "metadata": {},
     "output_type": "execute_result"
    }
   ],
   "source": [
    "df.shape\n"
   ]
  },
  {
   "cell_type": "markdown",
   "metadata": {},
   "source": [
    "각 단어들에 매겨진 고유값\n"
   ]
  },
  {
   "cell_type": "code",
   "execution_count": 7,
   "metadata": {},
   "outputs": [
    {
     "data": {
      "text/plain": [
       "{'4차산업혁명': 3,\n 'AI': 55,\n '감독': 21,\n '게임': 45,\n '김사랑': 1,\n '김순태교수': 32,\n '남자친구': 46,\n '너가좋아': 13,\n '눈물연기': 37,\n '대학교': 5,\n '대학생': 4,\n '던전앤파이터': 41,\n '데이터': 26,\n '데이터마이닝': 14,\n '롤': 53,\n '리그오브레전드': 30,\n '리니지': 2,\n '메이플스토리': 11,\n '배우': 43,\n '보겸': 9,\n '블록체인': 27,\n '블리자드': 28,\n '빅데이터': 7,\n '사랑': 15,\n '사랑해': 22,\n '서든어택': 40,\n '스타크래프트': 24,\n '시공조아': 25,\n '심화영화': 39,\n '아프리카': 36,\n '여자친구': 51,\n '연구실': 16,\n '연기대상': 52,\n '영원한': 20,\n '영화': 54,\n '영화감독': 17,\n '영화관': 35,\n '영화배우': 10,\n '예뻐': 31,\n '오버워치': 44,\n '인공지능': 19,\n '임요환': 42,\n '전북대학교': 49,\n '전지현': 18,\n '정우성': 12,\n '조인성': 38,\n '좋아해': 48,\n '페이커': 34,\n '폭풍저그': 50,\n '프로게이머': 29,\n '학교': 8,\n '행복': 33,\n '행복해': 0,\n '홍진호': 23,\n '히어로즈오브스톰': 47,\n '히오스': 6}"
      ]
     },
     "execution_count": 7,
     "metadata": {},
     "output_type": "execute_result"
    }
   ],
   "source": [
    "word2int"
   ]
  },
  {
   "cell_type": "code",
   "execution_count": 8,
   "metadata": {},
   "outputs": [],
   "source": [
    "import tensorflow as tf\n",
    "import numpy as np\n",
    "\n",
    "ONE_HOT_DIM = len(words)\n",
    "\n",
    "\n",
    "# 큰숫자 (예를들어 35, 43 등)를 원핫 인코딩 시키는 함수.\n",
    "# 35 -> (0,0,0,0,.....,1,0,0,0)\n",
    "# 36 -> (0,0,0,0,.....,0,1,0,0)\n",
    "def to_one_hot_encoding(data_point_index):\n",
    "    one_hot_encoding = np.zeros(ONE_HOT_DIM)\n",
    "    one_hot_encoding[data_point_index] = 1\n",
    "    return one_hot_encoding\n",
    "\n",
    "\n",
    "X = []  # 입력 배열입니다.\n",
    "Y = []  # 타겟단어입니다.\n",
    "\n",
    "for x, y in zip(df['input'], df['label']):\n",
    "    X.append(to_one_hot_encoding(word2int[x]))\n",
    "    Y.append(to_one_hot_encoding(word2int[y]))\n",
    "\n",
    "# 넘파이 어레이로 변경\n",
    "X_train = np.asarray(X)\n",
    "Y_train = np.asarray(Y)\n",
    "\n",
    "# 학습과정을 위한 placeholder 생성\n",
    "x = tf.placeholder(tf.float32, shape=(None, ONE_HOT_DIM))\n",
    "y_label = tf.placeholder(tf.float32, shape=(None, ONE_HOT_DIM))\n",
    "\n",
    "# 임베딩 차원 = 2\n",
    "EMBEDDING_DIM = 2\n",
    "\n",
    "# 이 두개의 값은 각각 히든레이어의 변수가 됩니다.\n",
    "W1 = tf.Variable(tf.random_normal([ONE_HOT_DIM, EMBEDDING_DIM]))\n",
    "b1 = tf.Variable(tf.random_normal([1])) \n",
    "hidden_layer = tf.add(tf.matmul(x, W1), b1)\n",
    "\n",
    "# 출력값\n",
    "W2 = tf.Variable(tf.random_normal([EMBEDDING_DIM, ONE_HOT_DIM]))\n",
    "b2 = tf.Variable(tf.random_normal([1]))\n",
    "prediction = tf.nn.softmax(tf.add(tf.matmul(hidden_layer, W2), b2))\n",
    "\n",
    "# 코스트합수 : 크로스 엔트로피\n",
    "loss = tf.reduce_mean(-tf.reduce_sum(y_label * tf.log(prediction), axis=[1]))\n",
    "\n",
    "# 학습과정\n",
    "train_op = tf.train.GradientDescentOptimizer(0.01).minimize(loss)\n"
   ]
  },
  {
   "cell_type": "code",
   "execution_count": 9,
   "metadata": {},
   "outputs": [
    {
     "name": "stdout",
     "output_type": "stream",
     "text": [
      "학습 0 현재 코스트 :  4.749445\n"
     ]
    },
    {
     "name": "stdout",
     "output_type": "stream",
     "text": [
      "학습 3000 현재 코스트 :  4.018304\n"
     ]
    },
    {
     "name": "stdout",
     "output_type": "stream",
     "text": [
      "학습 6000 현재 코스트 :  3.7849407\n"
     ]
    },
    {
     "name": "stdout",
     "output_type": "stream",
     "text": [
      "학습 9000 현재 코스트 :  3.5704873\n"
     ]
    },
    {
     "name": "stdout",
     "output_type": "stream",
     "text": [
      "학습 12000 현재 코스트 :  3.3662715\n"
     ]
    },
    {
     "name": "stdout",
     "output_type": "stream",
     "text": [
      "학습 15000 현재 코스트 :  3.199625\n"
     ]
    },
    {
     "name": "stdout",
     "output_type": "stream",
     "text": [
      "학습 18000 현재 코스트 :  3.0633008\n"
     ]
    },
    {
     "name": "stdout",
     "output_type": "stream",
     "text": [
      "학습 21000 현재 코스트 :  2.9469473\n"
     ]
    },
    {
     "name": "stdout",
     "output_type": "stream",
     "text": [
      "학습 24000 현재 코스트 :  2.844518\n"
     ]
    },
    {
     "name": "stdout",
     "output_type": "stream",
     "text": [
      "학습 27000 현재 코스트 :  2.755696\n"
     ]
    },
    {
     "name": "stdout",
     "output_type": "stream",
     "text": [
      "학습 30000 현재 코스트 :  2.6845214\n"
     ]
    },
    {
     "name": "stdout",
     "output_type": "stream",
     "text": [
      "학습 33000 현재 코스트 :  2.6313775\n"
     ]
    },
    {
     "name": "stdout",
     "output_type": "stream",
     "text": [
      "학습 36000 현재 코스트 :  2.5923886\n"
     ]
    },
    {
     "name": "stdout",
     "output_type": "stream",
     "text": [
      "학습 39000 현재 코스트 :  2.5632753\n"
     ]
    },
    {
     "name": "stdout",
     "output_type": "stream",
     "text": [
      "학습 42000 현재 코스트 :  2.540851\n"
     ]
    },
    {
     "name": "stdout",
     "output_type": "stream",
     "text": [
      "학습 45000 현재 코스트 :  2.5230763\n"
     ]
    },
    {
     "name": "stdout",
     "output_type": "stream",
     "text": [
      "학습 48000 현재 코스트 :  2.5086281\n"
     ]
    }
   ],
   "source": [
    "sess = tf.Session()\n",
    "init = tf.global_variables_initializer()\n",
    "sess.run(init)\n",
    "\n",
    "iteration = 50000\n",
    "for i in range(iteration):\n",
    "    sess.run(train_op, feed_dict={x: X_train, y_label: Y_train})\n",
    "    if i % 3000 == 0:\n",
    "        print('학습 '+str(i)+' 현재 코스트 : ', sess.run(loss, feed_dict={x: X_train, y_label: Y_train}))"
   ]
  },
  {
   "cell_type": "code",
   "execution_count": 10,
   "metadata": {},
   "outputs": [
    {
     "name": "stdout",
     "output_type": "stream",
     "text": [
      "[[ 2.2556348  -0.8012209 ]\n [-0.6488101  -2.3550715 ]\n [ 1.06268     2.2966356 ]\n [-1.6918262   0.415219  ]\n [-1.7139323  -0.16022646]\n [-1.7904649  -0.7589458 ]\n [ 0.39876395  1.4055593 ]\n [-1.756599    0.85330844]\n [-2.2525458  -1.9035941 ]\n [ 0.4161241   1.1252433 ]\n [-0.25320765 -2.0027533 ]\n [ 0.80355996  1.3575478 ]\n [-0.33447424 -2.10268   ]\n [ 2.3155391  -0.94267267]\n [-1.9893675   0.7481105 ]\n [ 0.48108545  0.03253387]\n [-2.351459    0.14819628]\n [-0.498404   -1.7977185 ]\n [ 0.3216619  -2.5936198 ]\n [-1.8713456   0.35851493]\n [ 0.00418058  0.3485352 ]\n [ 0.339919   -1.806056  ]\n [ 2.1112225  -0.9646668 ]\n [ 1.5863863   2.0418115 ]\n [ 1.2677575   1.9971544 ]\n [ 0.89885175  0.9141945 ]\n [-1.6783004   0.25789776]\n [-1.8327394   0.6334968 ]\n [ 0.8529986   1.7317356 ]\n [-0.6003527   1.9686635 ]\n [ 0.4100392   1.7026428 ]\n [ 1.3500394  -0.8289706 ]\n [-2.2715952   0.27882993]\n [ 0.23221149  0.16556378]\n [ 1.0564175   1.4063456 ]\n [-0.7575865  -2.0110056 ]\n [ 0.9745273   0.9532008 ]\n [-0.17289588 -2.115648  ]\n [-1.5801913  -2.0722013 ]\n [-0.65952456 -1.0711389 ]\n [ 2.1140099   1.5659733 ]\n [-0.49641863  2.636423  ]\n [ 1.1409168   1.8290669 ]\n [-0.33296204 -2.5799313 ]\n [ 1.4234664   1.5745164 ]\n [-0.134884    3.0862398 ]\n [ 1.5615048  -0.96350205]\n [ 0.9120757   0.8472329 ]\n [ 2.3107474  -0.95052236]\n [-2.3655124   0.39011258]\n [ 0.6436933   1.810273  ]\n [ 0.9723085  -0.1730765 ]\n [-0.13664356 -2.2966635 ]\n [ 0.15033749  1.7485493 ]\n [-0.40250713 -1.6746358 ]\n [-1.6084377   0.8990026 ]]\n"
     ]
    }
   ],
   "source": [
    "# 2차원의 히든레이어 벡터에 저장된 값\n",
    "vectors = sess.run(W1 + b1)\n",
    "print(vectors)"
   ]
  },
  {
   "cell_type": "code",
   "execution_count": 11,
   "metadata": {},
   "outputs": [],
   "source": [
    "w2v_df = pd.DataFrame(vectors, columns = ['x1', 'x2'])\n",
    "w2v_df['word'] = words\n",
    "w2v_df = w2v_df[['word', 'x1', 'x2']]"
   ]
  },
  {
   "cell_type": "code",
   "execution_count": 12,
   "metadata": {},
   "outputs": [],
   "source": [
    "from matplotlib import font_manager, rc\n",
    "font_name = font_manager.FontProperties(fname=\"c:/Windows/Fonts/malgun.ttf\").get_name()\n",
    "rc('font', family=font_name)\n",
    "# 한국어 폰트 설정"
   ]
  },
  {
   "cell_type": "code",
   "execution_count": 13,
   "metadata": {},
   "outputs": [],
   "source": [
    "import matplotlib.pyplot as plt\n",
    "\n",
    "# matplotlib을 이용한 시각화\n",
    "\n",
    "fig, ax = plt.subplots()\n",
    "\n",
    "for word, x1, x2 in zip(w2v_df['word'], w2v_df['x1'], w2v_df['x2']):\n",
    "    ax.annotate(word, (x1, x2))\n",
    "\n",
    "PADDING = 1.0\n",
    "x_axis_min = np.amin(vectors, axis=0)[0] - PADDING\n",
    "y_axis_min = np.amin(vectors, axis=0)[1] - PADDING\n",
    "x_axis_max = np.amax(vectors, axis=0)[0] + PADDING\n",
    "y_axis_max = np.amax(vectors, axis=0)[1] + PADDING\n",
    "\n",
    "plt.xlim(x_axis_min, x_axis_max)\n",
    "plt.ylim(y_axis_min, y_axis_max)\n",
    "plt.rcParams[\"figure.figsize\"] = (10, 10)\n",
    "\n",
    "plt.show()\n",
    "\n"
   ]
  },
  {
   "cell_type": "code",
   "execution_count": null,
   "metadata": {},
   "outputs": [],
   "source": []
  }
 ],
 "metadata": {
  "kernelspec": {
   "display_name": "Python 2",
   "language": "python",
   "name": "python2"
  },
  "language_info": {
   "codemirror_mode": {
    "name": "ipython",
    "version": 2
   },
   "file_extension": ".py",
   "mimetype": "text/x-python",
   "name": "python",
   "nbconvert_exporter": "python",
   "pygments_lexer": "ipython2",
   "version": "2.7.6"
  }
 },
 "nbformat": 4,
 "nbformat_minor": 0
}
