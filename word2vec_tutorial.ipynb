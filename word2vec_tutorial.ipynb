{
 "cells": [
  {
   "cell_type": "markdown",
   "metadata": {
    "collapsed": true
   },
   "source": [
    "## 텐서플로우를 활용한 Word2Vec 구현"
   ]
  },
  {
   "cell_type": "markdown",
   "metadata": {},
   "source": [
    "임의로 만든 데이터 배열을 정의합니다."
   ]
  },
  {
   "cell_type": "code",
   "execution_count": 1,
   "metadata": {},
   "outputs": [],
   "source": [
    "corpus = ['예뻐 너가좋아 좋아해 사랑해',\n",
    "          '데이터마이닝 인공지능 김순태교수',\n",
    "          '데이터 4차산업혁명 데이터마이닝',\n",
    "          '인공지능 AI 빅데이터 데이터',\n",
    "          '좋아해 사랑해 행복해 너가좋아',\n",
    "          '페이커 롤 보겸 아프리카',\n",
    "          '김순태교수 전북대학교 연구실',\n",
    "          '전북대학교 인공지능 연구실',\n",
    "          '데이터 4차산업혁명 전북대학교',\n",
    "          '롤 오버워치 게임 블리자드',\n",
    "          '던전앤파이터 리니지 오버워치 롤',\n",
    "          '메이플스토리 롤 페이커 리니지 게임 오버워치',\n",
    "          '전북대학교 대학생 김순태교수 블록체인',\n",
    "          '블록체인 연구실 빅데이터',\n",
    "          '여자친구 사랑해 행복해 영원한 사랑',\n",
    "          '남자친구 좋아해 너가좋아 여자친구',\n",
    "          '남자친구 여자친구 사랑 행복'\n",
    "          '메이플스토리 리그오브레전드 롤',\n",
    "          '히오스 히어로즈오브스톰 스타크래프트 롤 리그오브레전드',\n",
    "          '블리자드 오버워치 시공조아 스타크래프트 히오스',\n",
    "          '전북대학교 학교 대학교 연구실',\n",
    "          '여자친구 사랑 행복 영원한',\n",
    "          '정우성 영화 전지현',\n",
    "          '김사랑 영화 조인성 권상우',\n",
    "          '정우성 전지현 배우 영화배우 영화 권상우',\n",
    "          '영화 배우 영화배우 권상우 감독 영화감독',\n",
    "          '영화관 심화영화 영화 영화감독',\n",
    "          '조인성 눈물연기 연기대상 영화배우',\n",
    "          '영화배우 연기대상 김사랑 전지현',\n",
    "          '게임 스타크래프트 오버워치',\n",
    "          '페이커 던전앤파이터 스타크래프트 메이플스토리 프로게이머',\n",
    "          '스타크래프트 임요환 게임 페이커 롤챔스',\n",
    "          '홍진호 폭풍저그 게임 임요환 롤챔스 페이커',\n",
    "          '게임 홍진호 폭풍저그 테란 임요환 페이커',\n",
    "          '게임 스타크래프트 오버워치 롤',\n",
    "          '서든어택 롤 게임 스타크래프트',\n",
    "          '롤 스타크래프트 홍진호 게임']\n"
   ]
  },
  {
   "cell_type": "markdown",
   "metadata": {},
   "source": [
    "임의로 정의한 문장배열을 단어별로 정리합니다."
   ]
  },
  {
   "cell_type": "code",
   "execution_count": 2,
   "metadata": {},
   "outputs": [],
   "source": [
    "words = []\n",
    "\n",
    "for text in corpus:\n",
    "    for word in text.split(' '):\n",
    "        words.append(word)\n",
    "\n",
    "words = set(words)\n"
   ]
  },
  {
   "cell_type": "markdown",
   "metadata": {},
   "source": [
    "단어의 목록입니다."
   ]
  },
  {
   "cell_type": "code",
   "execution_count": 3,
   "metadata": {},
   "outputs": [
    {
     "data": {
      "text/plain": [
       "{'4차산업혁명',\n 'AI',\n '감독',\n '게임',\n '권상우',\n '김사랑',\n '김순태교수',\n '남자친구',\n '너가좋아',\n '눈물연기',\n '대학교',\n '대학생',\n '던전앤파이터',\n '데이터',\n '데이터마이닝',\n '롤',\n '롤챔스',\n '리그오브레전드',\n '리니지',\n '메이플스토리',\n '배우',\n '보겸',\n '블록체인',\n '블리자드',\n '빅데이터',\n '사랑',\n '사랑해',\n '서든어택',\n '스타크래프트',\n '시공조아',\n '심화영화',\n '아프리카',\n '여자친구',\n '연구실',\n '연기대상',\n '영원한',\n '영화',\n '영화감독',\n '영화관',\n '영화배우',\n '예뻐',\n '오버워치',\n '인공지능',\n '임요환',\n '전북대학교',\n '전지현',\n '정우성',\n '조인성',\n '좋아해',\n '테란',\n '페이커',\n '폭풍저그',\n '프로게이머',\n '학교',\n '행복',\n '행복메이플스토리',\n '행복해',\n '홍진호',\n '히어로즈오브스톰',\n '히오스'}"
      ]
     },
     "execution_count": 3,
     "metadata": {},
     "output_type": "execute_result"
    }
   ],
   "source": [
    "words"
   ]
  },
  {
   "cell_type": "markdown",
   "metadata": {},
   "source": [
    "word2int set을 정의하고 각 단어들마다 1씩 올려가며 숫자를 매깁니다. <br>\n",
    "그리고 window size를 2로 설정해서 양옆의 단어와 짝을 이룬 벡터를 생성합니다."
   ]
  },
  {
   "cell_type": "code",
   "execution_count": 4,
   "metadata": {},
   "outputs": [],
   "source": [
    "word2int = {}\n",
    "\n",
    "for i,word in enumerate(words):\n",
    "    word2int[word] = i\n",
    "\n",
    "sentences = []\n",
    "for sentence in corpus:\n",
    "    sentences.append(sentence.split())\n",
    "\n",
    "WINDOW_SIZE = 2\n",
    "\n",
    "data = []\n",
    "for sentence in sentences:\n",
    "    for idx, word in enumerate(sentence):\n",
    "        for neighbor in sentence[max(idx - WINDOW_SIZE, 0) : min(idx + WINDOW_SIZE, len(sentence)) + 1] :\n",
    "            if neighbor != word:\n",
    "                data.append([word, neighbor])\n"
   ]
  },
  {
   "cell_type": "markdown",
   "metadata": {},
   "source": [
    "pandas를 import하고 데이터프레임을 2차원의 생성합니다."
   ]
  },
  {
   "cell_type": "code",
   "execution_count": 5,
   "metadata": {},
   "outputs": [
    {
     "name": "stdout",
     "output_type": "stream",
     "text": [
      "예뻐 너가좋아 좋아해 사랑해\n데이터마이닝 인공지능 김순태교수\n데이터 4차산업혁명 데이터마이닝\n인공지능 AI 빅데이터 데이터\n좋아해 사랑해 행복해 너가좋아\n페이커 롤 보겸 아프리카\n김순태교수 전북대학교 연구실\n전북대학교 인공지능 연구실\n데이터 4차산업혁명 전북대학교\n롤 오버워치 게임 블리자드\n던전앤파이터 리니지 오버워치 롤\n메이플스토리 롤 페이커 리니지 게임 오버워치\n전북대학교 대학생 김순태교수 블록체인\n블록체인 연구실 빅데이터\n여자친구 사랑해 행복해 영원한 사랑\n남자친구 좋아해 너가좋아 여자친구\n남자친구 여자친구 사랑 행복메이플스토리 리그오브레전드 롤\n히오스 히어로즈오브스톰 스타크래프트 롤 리그오브레전드\n블리자드 오버워치 시공조아 스타크래프트 히오스\n전북대학교 학교 대학교 연구실\n여자친구 사랑 행복 영원한\n정우성 영화 전지현\n김사랑 영화 조인성 권상우\n정우성 전지현 배우 영화배우 영화 권상우\n영화 배우 영화배우 권상우 감독 영화감독\n영화관 심화영화 영화 영화감독\n조인성 눈물연기 연기대상 영화배우\n영화배우 연기대상 김사랑 전지현\n게임 스타크래프트 오버워치\n페이커 던전앤파이터 스타크래프트 메이플스토리 프로게이머\n스타크래프트 임요환 게임 페이커 롤챔스\n홍진호 폭풍저그 게임 임요환 롤챔스 페이커\n게임 홍진호 폭풍저그 테란 임요환 페이커\n게임 스타크래프트 오버워치 롤\n서든어택 롤 게임 스타크래프트\n롤 스타크래프트 홍진호 게임\n"
     ]
    }
   ],
   "source": [
    "import pandas as pd\n",
    "for text in corpus:\n",
    "    print(text)\n",
    "\n",
    "\n",
    "df = pd.DataFrame(data, columns = ['input', 'label'])"
   ]
  },
  {
   "cell_type": "markdown",
   "metadata": {},
   "source": [
    "현재 벡터의 사이즈"
   ]
  },
  {
   "cell_type": "code",
   "execution_count": 6,
   "metadata": {},
   "outputs": [
    {
     "data": {
      "text/plain": [
       "(396, 2)"
      ]
     },
     "execution_count": 6,
     "metadata": {},
     "output_type": "execute_result"
    }
   ],
   "source": [
    "df.shape\n"
   ]
  },
  {
   "cell_type": "markdown",
   "metadata": {},
   "source": [
    "각 단어들에 매겨진 고유값\n"
   ]
  },
  {
   "cell_type": "code",
   "execution_count": 7,
   "metadata": {},
   "outputs": [
    {
     "data": {
      "text/plain": [
       "{'4차산업혁명': 55,\n 'AI': 25,\n '감독': 41,\n '게임': 22,\n '권상우': 38,\n '김사랑': 49,\n '김순태교수': 51,\n '남자친구': 35,\n '너가좋아': 57,\n '눈물연기': 15,\n '대학교': 12,\n '대학생': 54,\n '던전앤파이터': 53,\n '데이터': 56,\n '데이터마이닝': 26,\n '롤': 2,\n '롤챔스': 52,\n '리그오브레전드': 46,\n '리니지': 14,\n '메이플스토리': 33,\n '배우': 0,\n '보겸': 32,\n '블록체인': 28,\n '블리자드': 20,\n '빅데이터': 31,\n '사랑': 4,\n '사랑해': 19,\n '서든어택': 9,\n '스타크래프트': 24,\n '시공조아': 27,\n '심화영화': 23,\n '아프리카': 44,\n '여자친구': 36,\n '연구실': 37,\n '연기대상': 48,\n '영원한': 42,\n '영화': 11,\n '영화감독': 59,\n '영화관': 8,\n '영화배우': 39,\n '예뻐': 13,\n '오버워치': 17,\n '인공지능': 18,\n '임요환': 5,\n '전북대학교': 7,\n '전지현': 3,\n '정우성': 47,\n '조인성': 50,\n '좋아해': 58,\n '테란': 43,\n '페이커': 34,\n '폭풍저그': 16,\n '프로게이머': 1,\n '학교': 45,\n '행복': 40,\n '행복메이플스토리': 29,\n '행복해': 6,\n '홍진호': 30,\n '히어로즈오브스톰': 21,\n '히오스': 10}"
      ]
     },
     "execution_count": 7,
     "metadata": {},
     "output_type": "execute_result"
    }
   ],
   "source": [
    "word2int"
   ]
  },
  {
   "cell_type": "code",
   "execution_count": 8,
   "metadata": {},
   "outputs": [],
   "source": [
    "import tensorflow as tf\n",
    "import numpy as np\n",
    "\n",
    "ONE_HOT_DIM = len(words)\n",
    "\n",
    "\n",
    "# 큰숫자 (예를들어 35, 43 등)를 원핫 인코딩 시키는 함수.\n",
    "# 35 -> (0,0,0,0,.....,1,0,0,0)\n",
    "# 36 -> (0,0,0,0,.....,0,1,0,0)\n",
    "def to_one_hot_encoding(data_point_index):\n",
    "    one_hot_encoding = np.zeros(ONE_HOT_DIM)\n",
    "    one_hot_encoding[data_point_index] = 1\n",
    "    return one_hot_encoding\n",
    "\n",
    "\n",
    "X = []  # 입력 배열입니다.\n",
    "Y = []  # 타겟단어입니다.\n",
    "\n",
    "for x, y in zip(df['input'], df['label']):\n",
    "    X.append(to_one_hot_encoding(word2int[x]))\n",
    "    Y.append(to_one_hot_encoding(word2int[y]))\n",
    "\n",
    "# 넘파이 어레이로 변경\n",
    "X_train = np.asarray(X)\n",
    "Y_train = np.asarray(Y)\n",
    "\n",
    "# 학습과정을 위한 placeholder 생성\n",
    "x = tf.placeholder(tf.float32, shape=(None, ONE_HOT_DIM))\n",
    "y_label = tf.placeholder(tf.float32, shape=(None, ONE_HOT_DIM))\n",
    "\n",
    "# 임베딩 차원 = 2\n",
    "EMBEDDING_DIM = 2\n",
    "\n",
    "# 이 두개의 값은 각각 히든레이어의 변수가 됩니다.\n",
    "W1 = tf.Variable(tf.random_normal([ONE_HOT_DIM, EMBEDDING_DIM]))\n",
    "b1 = tf.Variable(tf.random_normal([1])) \n",
    "hidden_layer = tf.add(tf.matmul(x, W1), b1)\n",
    "\n",
    "# 출력값\n",
    "W2 = tf.Variable(tf.random_normal([EMBEDDING_DIM, ONE_HOT_DIM]))\n",
    "b2 = tf.Variable(tf.random_normal([1]))\n",
    "prediction = tf.nn.softmax(tf.add(tf.matmul(hidden_layer, W2), b2))\n",
    "\n",
    "# 코스트합수 : 크로스 엔트로피\n",
    "loss = tf.reduce_mean(-tf.reduce_sum(y_label * tf.log(prediction), axis=[1]))\n",
    "\n",
    "# 학습과정\n",
    "train_op = tf.train.GradientDescentOptimizer(0.03).minimize(loss)\n"
   ]
  },
  {
   "cell_type": "code",
   "execution_count": 9,
   "metadata": {},
   "outputs": [
    {
     "name": "stdout",
     "output_type": "stream",
     "text": [
      "학습 0 현재 코스트 :  7.6250024\n"
     ]
    },
    {
     "name": "stdout",
     "output_type": "stream",
     "text": [
      "학습 3000 현재 코스트 :  3.4006999\n"
     ]
    },
    {
     "name": "stdout",
     "output_type": "stream",
     "text": [
      "학습 6000 현재 코스트 :  2.9937172\n"
     ]
    },
    {
     "name": "stdout",
     "output_type": "stream",
     "text": [
      "학습 9000 현재 코스트 :  2.7814565\n"
     ]
    },
    {
     "name": "stdout",
     "output_type": "stream",
     "text": [
      "학습 12000 현재 코스트 :  2.643801\n"
     ]
    },
    {
     "name": "stdout",
     "output_type": "stream",
     "text": [
      "학습 15000 현재 코스트 :  2.5646455\n"
     ]
    },
    {
     "name": "stdout",
     "output_type": "stream",
     "text": [
      "학습 18000 현재 코스트 :  2.5204265\n"
     ]
    },
    {
     "name": "stdout",
     "output_type": "stream",
     "text": [
      "학습 21000 현재 코스트 :  2.492062\n"
     ]
    },
    {
     "name": "stdout",
     "output_type": "stream",
     "text": [
      "학습 24000 현재 코스트 :  2.4711742\n"
     ]
    },
    {
     "name": "stdout",
     "output_type": "stream",
     "text": [
      "학습 27000 현재 코스트 :  2.4546518\n"
     ]
    }
   ],
   "source": [
    "sess = tf.Session()\n",
    "init = tf.global_variables_initializer()\n",
    "sess.run(init)\n",
    "\n",
    "iteration = 30000\n",
    "for i in range(iteration):\n",
    "    sess.run(train_op, feed_dict={x: X_train, y_label: Y_train})\n",
    "    if i % 3000 == 0:\n",
    "        print('학습 '+str(i)+' 현재 코스트 : ', sess.run(loss, feed_dict={x: X_train, y_label: Y_train}))"
   ]
  },
  {
   "cell_type": "code",
   "execution_count": 10,
   "metadata": {},
   "outputs": [
    {
     "name": "stdout",
     "output_type": "stream",
     "text": [
      "[[ 2.5790484  -2.1402595 ]\n [ 0.83635867  1.5044982 ]\n [ 0.65713835  1.258757  ]\n [ 1.1193081  -2.2251976 ]\n [-1.0532346   1.3937781 ]\n [ 3.346864    1.4806073 ]\n [-2.246798    1.7783281 ]\n [-1.6478379  -1.585202  ]\n [ 1.8462218  -0.9673428 ]\n [ 1.259943    2.5528824 ]\n [ 0.3419403   2.1038227 ]\n [ 1.1748965  -1.3097725 ]\n [-1.2809621  -2.6787696 ]\n [-2.325954    1.7635212 ]\n [ 1.3109148   2.5185068 ]\n [ 1.1430932  -1.7564112 ]\n [ 3.148124    1.0132916 ]\n [ 0.9541182   2.7350354 ]\n [-1.8213787  -1.7773168 ]\n [-2.5965497   1.5873985 ]\n [ 0.79508686  2.2624865 ]\n [ 0.3132923   2.6706192 ]\n [ 1.5600293   1.1970812 ]\n [ 0.98133844 -0.8440015 ]\n [ 0.8020272   1.6476215 ]\n [-2.858848   -0.9305103 ]\n [-2.5681674  -1.0437832 ]\n [ 0.30876115  2.274607  ]\n [-1.4872142  -1.7847111 ]\n [-0.6293067   2.3743076 ]\n [ 2.6564846   1.6492953 ]\n [-2.4438663  -1.1686293 ]\n [ 0.72990847  1.1217377 ]\n [ 0.7603704   1.5261018 ]\n [ 1.4889455   0.95974463]\n [-1.9332838   2.0843143 ]\n [-1.4737914   1.6847287 ]\n [-1.5591236  -2.0112343 ]\n [ 2.0505455  -1.6657896 ]\n [ 1.0148362  -3.207496  ]\n [-1.2885984   1.7283365 ]\n [ 1.377378   -1.3116401 ]\n [-1.4624156   1.8388149 ]\n [ 3.0788713   0.69318074]\n [ 0.79092145  0.99286574]\n [-1.2268317  -2.294648  ]\n [-0.2648941   3.2994342 ]\n [ 2.7546754  -1.7009224 ]\n [ 1.2323172  -1.6874763 ]\n [ 1.8634874  -1.8349369 ]\n [ 0.5569194  -3.0539806 ]\n [-1.7719383  -2.0842037 ]\n [ 3.6558406   2.0458539 ]\n [ 1.1470145   1.6110903 ]\n [-1.4963902  -1.9224234 ]\n [-2.9411457  -1.2414818 ]\n [-1.6795651  -1.2360514 ]\n [-2.4347346   0.97176796]\n [-2.4348848   0.97300464]\n [ 1.0165148  -1.2315831 ]]\n"
     ]
    }
   ],
   "source": [
    "# 2차원의 히든레이어 벡터에 저장된 값\n",
    "vectors = sess.run(W1 + b1)\n",
    "print(vectors)"
   ]
  },
  {
   "cell_type": "code",
   "execution_count": 11,
   "metadata": {},
   "outputs": [],
   "source": [
    "w2v_df = pd.DataFrame(vectors, columns = ['x1', 'x2'])\n",
    "w2v_df['word'] = words\n",
    "w2v_df = w2v_df[['word', 'x1', 'x2']]"
   ]
  },
  {
   "cell_type": "code",
   "execution_count": 12,
   "metadata": {},
   "outputs": [],
   "source": [
    "from matplotlib import font_manager, rc\n",
    "font_name = font_manager.FontProperties(fname=\"c:/Windows/Fonts/malgun.ttf\").get_name()\n",
    "rc('font', family=font_name)\n",
    "# 한국어 폰트 설정"
   ]
  },
  {
   "cell_type": "code",
   "execution_count": null,
   "metadata": {},
   "outputs": [],
   "source": [
    "import matplotlib.pyplot as plt\n",
    "\n",
    "# matplotlib을 이용한 시각화\n",
    "\n",
    "fig, ax = plt.subplots()\n",
    "\n",
    "for word, x1, x2 in zip(w2v_df['word'], w2v_df['x1'], w2v_df['x2']):\n",
    "    ax.annotate(word, (x1, x2))\n",
    "\n",
    "PADDING = 1.0\n",
    "x_axis_min = np.amin(vectors, axis=0)[0] - PADDING\n",
    "y_axis_min = np.amin(vectors, axis=0)[1] - PADDING\n",
    "x_axis_max = np.amax(vectors, axis=0)[0] + PADDING\n",
    "y_axis_max = np.amax(vectors, axis=0)[1] + PADDING\n",
    "\n",
    "plt.xlim(x_axis_min, x_axis_max)\n",
    "plt.ylim(y_axis_min, y_axis_max)\n",
    "plt.rcParams[\"figure.figsize\"] = (10, 10)\n",
    "\n",
    "plt.show()\n"
   ]
  },
  {
   "cell_type": "markdown",
   "metadata": {},
   "source": [
    "![image](https://user-images.githubusercontent.com/38183241/48307056-3efed080-e588-11e8-94be-38dde658ccc0.png)\n",
    "\n"
   ]
  },
  {
   "cell_type": "markdown",
   "metadata": {},
   "source": [
    "![image](https://user-images.githubusercontent.com/38183241/48306954-1fff3f00-e586-11e8-8825-7425e7552c0e.png)\n",
    "\n"
   ]
  }
 ],
 "metadata": {
  "kernelspec": {
   "display_name": "Python 2",
   "language": "python",
   "name": "python2"
  },
  "language_info": {
   "codemirror_mode": {
    "name": "ipython",
    "version": 2
   },
   "file_extension": ".py",
   "mimetype": "text/x-python",
   "name": "python",
   "nbconvert_exporter": "python",
   "pygments_lexer": "ipython2",
   "version": "2.7.6"
  }
 },
 "nbformat": 4,
 "nbformat_minor": 0
}
