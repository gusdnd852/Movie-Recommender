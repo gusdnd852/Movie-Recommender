{
 "cells": [
  {
   "cell_type": "markdown",
   "metadata": {},
   "source": [
    "## Implemention Word2Vec with Tensorflow\n"
   ]
  },
  {
   "cell_type": "markdown",
   "metadata": {},
   "source": [
    "### 1. 임의로 정의한 데이터 배열을 생성합니다."
   ]
  },
  {
   "cell_type": "code",
   "execution_count": 1,
   "metadata": {},
   "outputs": [],
   "source": [
    "corpus = ['king is a strong man', \n",
    "          'queen is a wise woman', \n",
    "          'boy is a young man',\n",
    "          'girl is a young woman',\n",
    "          'prince is a young king',\n",
    "          'princess is a young queen',\n",
    "          'man is strong', \n",
    "          'woman is pretty',\n",
    "          'prince is a boy will be king',\n",
    "          'princess is a girl will be queen']"
   ]
  },
  {
   "cell_type": "markdown",
   "metadata": {},
   "source": [
    "### 2. 직접적인 의미와 관련없는 Stop Word 들을 제거합니다.\n",
    "stopwords 배열을 정의하고 <br>\n",
    "위의 문장에서 stopwords 배열에 포함된 단어가 있을경우 제거합니다. <br>\n",
    "아래는 관련 함수입니다."
   ]
  },
  {
   "cell_type": "code",
   "execution_count": 2,
   "metadata": {},
   "outputs": [],
   "source": [
    "def remove_stop_words(corpus):\n",
    "    stop_words = ['is', 'a', 'will', 'be']\n",
    "    # stop words 배열을 정의합니다.\n",
    "    results = []\n",
    "    # 결과를 담을 배열을 정의합니다.\n",
    "    \n",
    "    for text in corpus:\n",
    "        #인덱스마다 문장들이 하나씩 들어옵니다.\n",
    "        # text = 문장 (Like 'king is a strong man') \n",
    "        \n",
    "        array = text.split(' ')\n",
    "        # 공백을 구분자로 자릅니다.\n",
    "        # array = 단어 배열(Like 'king', 'is', 'a', 'strong', 'man')\n",
    "        \n",
    "        for stop_word in stop_words:\n",
    "            # 단어 1개 x stop_words의 사이즈 만큼 for문을 돌려서\n",
    "            if stop_word in array:\n",
    "                # 만약 단어와 stop word 가 일치한다면\n",
    "                array.remove(stop_word)\n",
    "                # 배열에서 stop word 를 제거합니다.\n",
    "                # 이렇게 2중 포문을 돌면서 모든 stop word가 제거됩니다.\n",
    "        \n",
    "            results.append(' '.join(array))\n",
    "            # 이렇게 만들어진 array(단어배열)를 다시 붙여서 문장으로 만들고\n",
    "            # result (문장배열)에 넣고 리턴합니다.\n",
    "            \n",
    "        return results"
   ]
  },
  {
   "cell_type": "code",
   "execution_count": null,
   "metadata": {},
   "outputs": [],
   "source": []
  }
 ],
 "metadata": {
  "kernelspec": {
   "display_name": "Python 3",
   "language": "python",
   "name": "python3"
  },
  "language_info": {
   "codemirror_mode": {
    "name": "ipython",
    "version": 3
   },
   "file_extension": ".py",
   "mimetype": "text/x-python",
   "name": "python",
   "nbconvert_exporter": "python",
   "pygments_lexer": "ipython3",
   "version": "3.6.7"
  }
 },
 "nbformat": 4,
 "nbformat_minor": 2
}
