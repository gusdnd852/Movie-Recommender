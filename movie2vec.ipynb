{
 "cells": [
  {
   "cell_type": "markdown",
   "metadata": {
    "collapsed": true
   },
   "source": [
    "## Word2Vec 을 이용한 평점 및 메타데이터 기반 영화 추천기법"
   ]
  },
  {
   "cell_type": "markdown",
   "metadata": {},
   "source": [
    "먼저 여러가지 영화 데이터를 로드합니다. <br>\n",
    "영화 데이터는 MovieLens의 데이터를 사용하였습니다."
   ]
  },
  {
   "cell_type": "code",
   "execution_count": 8,
   "metadata": {},
   "outputs": [],
   "source": [
    "import os\n",
    "\n",
    "import numpy as np\n",
    "import pandas as pd\n",
    "import tensorflow as tf\n",
    "\n",
    "os.environ['TF_CPP_MIN_LOG_LEVEL'] = '2'\n",
    "\n",
    "rating = pd.read_csv('ratings.csv')\n",
    "tag = pd.read_csv('tags.csv')\n",
    "movie = pd.read_csv('movies.csv')\n",
    "# 각종 데이터를 로드합니다.\n",
    "\n",
    "rating_df = pd.DataFrame(rating)\n",
    "tag_df = pd.DataFrame(tag)\n",
    "movie_df = pd.DataFrame(movie)\n",
    "# 데이터 프레임을 만듭니다."
   ]
  },
  {
   "cell_type": "code",
   "execution_count": 9,
   "metadata": {
    "collapsed": true
   },
   "outputs": [
    {
     "name": "stdout",
     "output_type": "stream",
     "text": [
      "['funny', 'highly quotable', 'will ferrell']\n['boxing story', 'mma', 'tom hardy']\n['drugs', 'leonardo dicaprio', 'martin scorsese']\n['gangster', 'mafia']\n['al pacino', 'mafia']\n['holocaust', 'true story']\n['twist ending']\n['anthony hopkins', 'courtroom drama', 'twist ending']\n['britpop', 'indie record label', 'music']\n['dumpster diving', 'sustainability']\n"
     ]
    }
   ],
   "source": [
    "my_array = []\n",
    "tmp_array = []\n",
    "tmp_for_movie_id = 60756\n",
    "tmp_for_user_id = 2\n",
    "\n",
    "for userId, movieId, tag, time in tag_df.values:\n",
    "\n",
    "    if tmp_for_user_id == userId:\n",
    "        if tmp_for_movie_id == movieId:\n",
    "            lower_tag = tag.lower()\n",
    "            tmp_array.append(lower_tag)\n",
    "\n",
    "        else:\n",
    "            my_array.append(list(tmp_array))\n",
    "            tmp_for_movie_id = movieId\n",
    "            tmp_array.clear()\n",
    "            lower_tag = tag.lower()\n",
    "            tmp_array.append(lower_tag)\n",
    "\n",
    "    else:\n",
    "        tmp_for_user_id = userId\n",
    "\n",
    "\n",
    "for i in range(0,10):\n",
    "    print(my_array[i])"
   ]
  },
  {
   "cell_type": "code",
   "execution_count": null,
   "metadata": {
    "collapsed": false
   },
   "outputs": [],
   "source": [
    "words = []\n",
    "s_array = []\n",
    "\n",
    "for separate_array in my_array:\n",
    "    arr = list(separate_array)\n",
    "    s_array.append(arr)\n",
    "    for word in separate_array:\n",
    "        words.append(word)\n",
    "\n",
    "word2int = {}\n",
    "int2word = {}\n",
    "\n",
    "for i, word in enumerate(words):\n",
    "    word2int[word] = i\n",
    "    int2word[i] = word\n",
    "\n",
    "sentences = []\n",
    "for sentence in s_array:\n",
    "    sentences.append(sentence)\n",
    "\n",
    "WINDOW_SIZE = 3\n",
    "\n",
    "data = []\n",
    "for sentence in sentences:\n",
    "    for idx, word in enumerate(sentence):\n",
    "        for neighbor in sentence[max(idx - WINDOW_SIZE, 0): min(idx + WINDOW_SIZE, len(sentence)) + 1]:\n",
    "            if neighbor != word:\n",
    "                data.append([word, neighbor])\n",
    "\n",
    "df = pd.DataFrame(data, columns=['input', 'label'])\n",
    "\n"
   ]
  },
  {
   "cell_type": "code",
   "execution_count": 53,
   "metadata": {
    "collapsed": true
   },
   "outputs": [
    {
     "name": "stdout",
     "output_type": "stream",
     "text": [
      "학습 0 현재 코스트 :  8.193791\n"
     ]
    },
    {
     "name": "stdout",
     "output_type": "stream",
     "text": [
      "학습 5 현재 코스트 :  8.036916\n"
     ]
    },
    {
     "name": "stdout",
     "output_type": "stream",
     "text": [
      "학습 10 현재 코스트 :  7.8626404\n"
     ]
    },
    {
     "name": "stdout",
     "output_type": "stream",
     "text": [
      "학습 15 현재 코스트 :  7.6588306\n"
     ]
    },
    {
     "name": "stdout",
     "output_type": "stream",
     "text": [
      "학습 20 현재 코스트 :  7.46116\n"
     ]
    },
    {
     "name": "stdout",
     "output_type": "stream",
     "text": [
      "학습 25 현재 코스트 :  7.3030343\n"
     ]
    },
    {
     "name": "stdout",
     "output_type": "stream",
     "text": [
      "학습 30 현재 코스트 :  7.181872\n"
     ]
    },
    {
     "name": "stdout",
     "output_type": "stream",
     "text": [
      "학습 35 현재 코스트 :  7.087038\n"
     ]
    },
    {
     "name": "stdout",
     "output_type": "stream",
     "text": [
      "학습 40 현재 코스트 :  7.0106325\n"
     ]
    },
    {
     "name": "stdout",
     "output_type": "stream",
     "text": [
      "학습 45 현재 코스트 :  6.947792\n"
     ]
    },
    {
     "name": "stdout",
     "output_type": "stream",
     "text": [
      "학습 50 현재 코스트 :  6.895187\n"
     ]
    },
    {
     "name": "stdout",
     "output_type": "stream",
     "text": [
      "학습 55 현재 코스트 :  6.8504457\n"
     ]
    },
    {
     "name": "stdout",
     "output_type": "stream",
     "text": [
      "학습 60 현재 코스트 :  6.811962\n"
     ]
    },
    {
     "name": "stdout",
     "output_type": "stream",
     "text": [
      "학습 65 현재 코스트 :  6.778652\n"
     ]
    },
    {
     "name": "stdout",
     "output_type": "stream",
     "text": [
      "학습 70 현재 코스트 :  6.7497406\n"
     ]
    },
    {
     "name": "stdout",
     "output_type": "stream",
     "text": [
      "학습 75 현재 코스트 :  6.724633\n"
     ]
    },
    {
     "name": "stdout",
     "output_type": "stream",
     "text": [
      "학습 80 현재 코스트 :  6.7028294\n"
     ]
    },
    {
     "name": "stdout",
     "output_type": "stream",
     "text": [
      "학습 85 현재 코스트 :  6.6838923\n"
     ]
    },
    {
     "name": "stdout",
     "output_type": "stream",
     "text": [
      "학습 90 현재 코스트 :  6.6674333\n"
     ]
    },
    {
     "name": "stdout",
     "output_type": "stream",
     "text": [
      "학습 95 현재 코스트 :  6.6531096\n"
     ]
    },
    {
     "name": "stdout",
     "output_type": "stream",
     "text": [
      "학습 100 현재 코스트 :  6.640616\n"
     ]
    },
    {
     "name": "stdout",
     "output_type": "stream",
     "text": [
      "학습 105 현재 코스트 :  6.62968\n"
     ]
    },
    {
     "name": "stdout",
     "output_type": "stream",
     "text": [
      "학습 110 현재 코스트 :  6.620071\n"
     ]
    },
    {
     "name": "stdout",
     "output_type": "stream",
     "text": [
      "학습 115 현재 코스트 :  6.6115913\n"
     ]
    },
    {
     "name": "stdout",
     "output_type": "stream",
     "text": [
      "학습 120 현재 코스트 :  6.6040707\n"
     ]
    },
    {
     "name": "stdout",
     "output_type": "stream",
     "text": [
      "학습 125 현재 코스트 :  6.5973697\n"
     ]
    },
    {
     "name": "stdout",
     "output_type": "stream",
     "text": [
      "학습 130 현재 코스트 :  6.5913734\n"
     ]
    },
    {
     "name": "stdout",
     "output_type": "stream",
     "text": [
      "학습 135 현재 코스트 :  6.5859814\n"
     ]
    },
    {
     "name": "stdout",
     "output_type": "stream",
     "text": [
      "학습 140 현재 코스트 :  6.58112\n"
     ]
    },
    {
     "name": "stdout",
     "output_type": "stream",
     "text": [
      "학습 145 현재 코스트 :  6.5767117\n"
     ]
    },
    {
     "name": "stdout",
     "output_type": "stream",
     "text": [
      "학습 150 현재 코스트 :  6.572709\n"
     ]
    },
    {
     "name": "stdout",
     "output_type": "stream",
     "text": [
      "학습 155 현재 코스트 :  6.569059\n"
     ]
    },
    {
     "name": "stdout",
     "output_type": "stream",
     "text": [
      "학습 160 현재 코스트 :  6.5657215\n"
     ]
    },
    {
     "name": "stdout",
     "output_type": "stream",
     "text": [
      "학습 165 현재 코스트 :  6.5626597\n"
     ]
    },
    {
     "name": "stdout",
     "output_type": "stream",
     "text": [
      "학습 170 현재 코스트 :  6.5598474\n"
     ]
    },
    {
     "name": "stdout",
     "output_type": "stream",
     "text": [
      "학습 175 현재 코스트 :  6.5572543\n"
     ]
    },
    {
     "name": "stdout",
     "output_type": "stream",
     "text": [
      "학습 180 현재 코스트 :  6.5548573\n"
     ]
    },
    {
     "name": "stdout",
     "output_type": "stream",
     "text": [
      "학습 185 현재 코스트 :  6.5526342\n"
     ]
    },
    {
     "name": "stdout",
     "output_type": "stream",
     "text": [
      "학습 190 현재 코스트 :  6.5505676\n"
     ]
    },
    {
     "name": "stdout",
     "output_type": "stream",
     "text": [
      "학습 195 현재 코스트 :  6.5486465\n"
     ]
    },
    {
     "name": "stdout",
     "output_type": "stream",
     "text": [
      "학습 200 현재 코스트 :  6.546853\n"
     ]
    },
    {
     "name": "stdout",
     "output_type": "stream",
     "text": [
      "학습 205 현재 코스트 :  6.545177\n"
     ]
    }
   ],
   "source": [
    "ONE_HOT_DIM = len(words)\n",
    "\n",
    "\n",
    "# 큰숫자 (예를들어 35, 43 등)를 원핫 인코딩 시키는 함수.\n",
    "# 35 -> (0,0,0,0,.....,1,0,0,0)\n",
    "# 36 -> (0,0,0,0,.....,0,1,0,0)\n",
    "def to_one_hot_encoding(data_point_index):\n",
    "    one_hot_encoding = np.zeros(ONE_HOT_DIM)\n",
    "    one_hot_encoding[data_point_index] = 1\n",
    "    return one_hot_encoding\n",
    "\n",
    "\n",
    "X = []  # 입력 배열입니다.\n",
    "Y = []  # 타겟단어입니다.\n",
    "\n",
    "for x, y in zip(df['input'], df['label']):\n",
    "    X.append(to_one_hot_encoding(word2int[x]))\n",
    "    Y.append(to_one_hot_encoding(word2int[y]))\n",
    "\n",
    "# 넘파이 어레이로 변경\n",
    "X_train = np.asarray(X)\n",
    "Y_train = np.asarray(Y)\n",
    "\n",
    "# 학습과정을 위한 placeholder 생성\n",
    "x = tf.placeholder(tf.float32, shape=(None, ONE_HOT_DIM))\n",
    "y_label = tf.placeholder(tf.float32, shape=(None, ONE_HOT_DIM))\n",
    "\n",
    "EMBEDDING_DIM = 128\n",
    "\n",
    "# 이 두개의 값은 각각 히든레이어의 변수가 됩니다.\n",
    "W1 = tf.get_variable(\"xxxx\", shape=[ONE_HOT_DIM, EMBEDDING_DIM], initializer=tf.contrib.layers.xavier_initializer())\n",
    "b1 = tf.Variable(tf.random_normal([1]))\n",
    "L1 = tf.add(tf.matmul(x, W1), b1)\n",
    "\n",
    "# 출력값\n",
    "W2 = tf.get_variable(\"zzzz\", shape=[EMBEDDING_DIM, ONE_HOT_DIM], initializer=tf.contrib.layers.xavier_initializer())\n",
    "b2 = tf.Variable(tf.random_normal([1]))\n",
    "prediction = tf.nn.softmax(tf.add(tf.matmul(L1, W2), b2))\n",
    "\n",
    "# 코스트합수 : 크로스 엔트로피\n",
    "loss = tf.reduce_mean(-tf.reduce_sum(y_label * tf.log(prediction), axis=[1]))\n",
    "\n",
    "# 학습과정\n",
    "train_op = tf.train.GradientDescentOptimizer(0.1).minimize(loss)\n",
    "\n",
    "\n",
    "sess = tf.Session()\n",
    "init = tf.global_variables_initializer()\n",
    "sess.run(init)\n",
    "\n",
    "iteration = 210\n",
    "\n",
    "for i in range(iteration):\n",
    "    sess.run(train_op, feed_dict={x: X_train, y_label: Y_train})\n",
    "    if i % 5 == 0:\n",
    "        print('학습 ' + str(i) + ' 현재 코스트 : ', sess.run(loss, feed_dict={x: X_train, y_label: Y_train}))\n",
    "\n",
    "vectors = sess.run(W1 + b1)\n"
   ]
  },
  {
   "cell_type": "code",
   "execution_count": 56,
   "metadata": {},
   "outputs": [
    {
     "name": "stdout",
     "output_type": "stream",
     "text": [
      "dark 와 가장 비슷한 단어는  mental illness\ncomedy 와 가장 비슷한 단어는  martial arts\ndisney 와 가장 비슷한 단어는  pregnancy\nolympics 와 가장 비슷한 단어는  africa\n"
     ]
    }
   ],
   "source": [
    "\n",
    "\n",
    "def euclidean_dist(vec1, vec2):\n",
    "    return np.sqrt(np.sum((vec1 - vec2) ** 2))\n",
    "\n",
    "\n",
    "def find_closest(word_index, vectors):\n",
    "    min_dist = 100000\n",
    "    min_index = -1\n",
    "    query_vector = vectors[word_index]\n",
    "    for index, vector in enumerate(vectors):\n",
    "        if euclidean_dist(vector, query_vector) < min_dist and not np.array_equal(vector, query_vector):\n",
    "            min_dist = euclidean_dist(vector, query_vector)\n",
    "            min_index = index\n",
    "    return min_index\n",
    "\n",
    "\n",
    "test1 = 'dark'\n",
    "test2 = 'comedy'\n",
    "test3 = 'disney'\n",
    "test4 = 'olympics'\n",
    "\n",
    "closest1 = int2word[find_closest(word2int[test1], vectors)]\n",
    "closest2 = int2word[find_closest(word2int[test2], vectors)]\n",
    "closest3 = int2word[find_closest(word2int[test3], vectors)]\n",
    "closest4 = int2word[find_closest(word2int[test4], vectors)]\n",
    "\n",
    "print(test1, '와 가장 비슷한 단어는 ', closest1)\n",
    "print(test2, '와 가장 비슷한 단어는 ', closest2)\n",
    "print(test3, '와 가장 비슷한 단어는 ', closest3)\n",
    "print(test4, '와 가장 비슷한 단어는 ', closest4)\n"
   ]
  },
  {
   "cell_type": "code",
   "execution_count": 1,
   "metadata": {},
   "outputs": [],
   "source": []
  },
  {
   "cell_type": "code",
   "execution_count": null,
   "metadata": {},
   "outputs": [],
   "source": []
  }
 ],
 "metadata": {
  "kernelspec": {
   "display_name": "Python 2",
   "language": "python",
   "name": "python2"
  },
  "language_info": {
   "codemirror_mode": {
    "name": "ipython",
    "version": 2
   },
   "file_extension": ".py",
   "mimetype": "text/x-python",
   "name": "python",
   "nbconvert_exporter": "python",
   "pygments_lexer": "ipython2",
   "version": "2.7.6"
  }
 },
 "nbformat": 4,
 "nbformat_minor": 0
}
